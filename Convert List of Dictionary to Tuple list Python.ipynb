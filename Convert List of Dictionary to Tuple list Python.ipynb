{
 "cells": [
  {
   "cell_type": "code",
   "execution_count": 21,
   "id": "90fd09d0",
   "metadata": {},
   "outputs": [
    {
     "name": "stdout",
     "output_type": "stream",
     "text": [
      "List of dictionary:\n",
      "[{'fname': 'Arjun', 'lname': 'Unnikrishnan', 'age': 18}, {'fname': 'Akshay', 'lname': 'Unnikrishnan', 'age': 15}]\n",
      "Tuple List:\n",
      "[(('fname', 'Arjun'), ('lname', 'Unnikrishnan'), ('age', 18)), (('fname', 'Akshay'), ('lname', 'Unnikrishnan'), ('age', 15))]\n"
     ]
    }
   ],
   "source": [
    "#Convert List of Dictionary to Tuple list Python\n",
    "dictlist=[{\"fname\":\"Arjun\",\"lname\":\"Unnikrishnan\",\"age\":18},{\"fname\":\"Akshay\",\"lname\":\"Unnikrishnan\",\"age\":15}]\n",
    "print(\"List of dictionary:\")\n",
    "print(dictlist)\n",
    "listtup=[]\n",
    "for a in dictlist:\n",
    "    listtup.append(tuple(a.items()))\n",
    "print(\"Tuple List:\")\n",
    "print(listtup)"
   ]
  },
  {
   "cell_type": "code",
   "execution_count": null,
   "id": "edaf008f",
   "metadata": {},
   "outputs": [],
   "source": []
  }
 ],
 "metadata": {
  "kernelspec": {
   "display_name": "Python 3 (ipykernel)",
   "language": "python",
   "name": "python3"
  },
  "language_info": {
   "codemirror_mode": {
    "name": "ipython",
    "version": 3
   },
   "file_extension": ".py",
   "mimetype": "text/x-python",
   "name": "python",
   "nbconvert_exporter": "python",
   "pygments_lexer": "ipython3",
   "version": "3.9.12"
  }
 },
 "nbformat": 4,
 "nbformat_minor": 5
}
