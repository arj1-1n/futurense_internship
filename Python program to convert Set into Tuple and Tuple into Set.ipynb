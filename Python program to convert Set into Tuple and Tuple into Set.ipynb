{
 "cells": [
  {
   "cell_type": "code",
   "execution_count": 5,
   "id": "9d521270",
   "metadata": {},
   "outputs": [
    {
     "name": "stdout",
     "output_type": "stream",
     "text": [
      "(1, 2, 3, 4, 5, 6, 7, 8, 9) <class 'tuple'>\n",
      "{1, 2, 3, 4, 5, 6, 7, 8} <class 'set'>\n",
      "Set to Tuple: (1, 2, 3, 4, 5, 6, 7, 8) <class 'tuple'>\n",
      "Tuple to Set: {1, 2, 3, 4, 5, 6, 7, 8, 9} <class 'set'>\n"
     ]
    }
   ],
   "source": [
    "#Python program to convert Set into Tuple and Tuple into Set\n",
    "a=(1,2,3,4,5,6,7,8,9)\n",
    "print(a,type(a))\n",
    "b={1,2,3,4,5,6,7,8}\n",
    "print(b,type(b))\n",
    "b=tuple(b)\n",
    "a=set(a)\n",
    "print(\"Set to Tuple:\",b,type(b))\n",
    "print(\"Tuple to Set:\",a,type(a))"
   ]
  },
  {
   "cell_type": "code",
   "execution_count": null,
   "id": "a45f71c1",
   "metadata": {},
   "outputs": [],
   "source": []
  }
 ],
 "metadata": {
  "kernelspec": {
   "display_name": "Python 3 (ipykernel)",
   "language": "python",
   "name": "python3"
  },
  "language_info": {
   "codemirror_mode": {
    "name": "ipython",
    "version": 3
   },
   "file_extension": ".py",
   "mimetype": "text/x-python",
   "name": "python",
   "nbconvert_exporter": "python",
   "pygments_lexer": "ipython3",
   "version": "3.9.12"
  }
 },
 "nbformat": 4,
 "nbformat_minor": 5
}
