{
 "cells": [
  {
   "cell_type": "code",
   "execution_count": 10,
   "id": "d956e643",
   "metadata": {},
   "outputs": [
    {
     "name": "stdout",
     "output_type": "stream",
     "text": [
      "Enter Nth index of tuple to sort list: 1\n",
      "Sorted list: [(5, 2), (1, 6), (9, 7), (3, 8)]\n"
     ]
    }
   ],
   "source": [
    "#Sort tuple list by Nth element of tuple\n",
    "tuplist=[(1,6),(5,2),(9,7),(3,8)]\n",
    "N=int(input(\"Enter Nth index of tuple to sort list: \"))\n",
    "def sortn(a):\n",
    "    return a[N]\n",
    "sortlist=sorted(tuplist,key=sortn)\n",
    "print(\"Sorted list:\",sortlist)"
   ]
  },
  {
   "cell_type": "code",
   "execution_count": null,
   "id": "d1d6d3bd",
   "metadata": {},
   "outputs": [],
   "source": []
  }
 ],
 "metadata": {
  "kernelspec": {
   "display_name": "Python 3 (ipykernel)",
   "language": "python",
   "name": "python3"
  },
  "language_info": {
   "codemirror_mode": {
    "name": "ipython",
    "version": 3
   },
   "file_extension": ".py",
   "mimetype": "text/x-python",
   "name": "python",
   "nbconvert_exporter": "python",
   "pygments_lexer": "ipython3",
   "version": "3.9.12"
  }
 },
 "nbformat": 4,
 "nbformat_minor": 5
}
