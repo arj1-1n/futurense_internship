{
 "cells": [
  {
   "cell_type": "code",
   "execution_count": 8,
   "id": "21aecd90",
   "metadata": {},
   "outputs": [
    {
     "name": "stdout",
     "output_type": "stream",
     "text": [
      "Original List: [[1, 2, 3], [4, 5, 6], [7], [8, 9]] Type: <class 'list'>\n",
      "Flattened Tuple: (1, 2, 3, 4, 5, 6, 7, 8, 9) Type: <class 'tuple'>\n"
     ]
    }
   ],
   "source": [
    "#Write a python program to flatten tuple of list to tuple\n",
    "a=[[1,2,3],[4,5,6],[7],[8,9]]\n",
    "tup=[]\n",
    "for i in a:\n",
    "    for j in i:\n",
    "        tup.append(j)\n",
    "tup=tuple(tup)\n",
    "print(\"Original List:\",a,\"Type:\",type(a))\n",
    "print(\"Flattened Tuple:\",tup,\"Type:\",type(tup))"
   ]
  },
  {
   "cell_type": "code",
   "execution_count": null,
   "id": "c4ba35d1",
   "metadata": {},
   "outputs": [],
   "source": []
  }
 ],
 "metadata": {
  "kernelspec": {
   "display_name": "Python 3 (ipykernel)",
   "language": "python",
   "name": "python3"
  },
  "language_info": {
   "codemirror_mode": {
    "name": "ipython",
    "version": 3
   },
   "file_extension": ".py",
   "mimetype": "text/x-python",
   "name": "python",
   "nbconvert_exporter": "python",
   "pygments_lexer": "ipython3",
   "version": "3.9.12"
  }
 },
 "nbformat": 4,
 "nbformat_minor": 5
}
