{
 "cells": [
  {
   "cell_type": "code",
   "execution_count": 1,
   "id": "f9e43782",
   "metadata": {},
   "outputs": [
    {
     "name": "stdout",
     "output_type": "stream",
     "text": [
      "Enter a number: 5\n",
      "Enter a number: 6.5\n",
      "Sum of numbers: 11.5\n"
     ]
    }
   ],
   "source": [
    "#Program to add two numbers\n",
    "a=float(input(\"Enter a number: \"))\n",
    "b=float(input(\"Enter a number: \"))\n",
    "print(\"Sum of numbers:\",a+b)"
   ]
  },
  {
   "cell_type": "code",
   "execution_count": 2,
   "id": "2452a879",
   "metadata": {},
   "outputs": [
    {
     "name": "stdout",
     "output_type": "stream",
     "text": [
      "Enter a number: 77\n",
      "Enter a number: 654\n",
      "Max of numbers: 654.0\n"
     ]
    }
   ],
   "source": [
    "#Program to find max of two numbers\n",
    "a=float(input(\"Enter a number: \"))\n",
    "b=float(input(\"Enter a number: \"))\n",
    "print(\"Max of numbers:\",max(a,b))"
   ]
  },
  {
   "cell_type": "code",
   "execution_count": 4,
   "id": "71d8bb93",
   "metadata": {},
   "outputs": [
    {
     "name": "stdout",
     "output_type": "stream",
     "text": [
      "Enter a number: 5\n",
      "Factorial of number: 120\n"
     ]
    }
   ],
   "source": [
    "#Program to print factorial of a number\n",
    "a=int(input(\"Enter a number: \"))\n",
    "fac=1\n",
    "for i in range (1,a+1):\n",
    "    fac*=i\n",
    "print(\"Factorial of number:\",fac)"
   ]
  },
  {
   "cell_type": "code",
   "execution_count": 5,
   "id": "a8b81f20",
   "metadata": {},
   "outputs": [
    {
     "name": "stdout",
     "output_type": "stream",
     "text": [
      "Enter principal amount: 50000\n",
      "Enter rate percent: 12\n",
      "Enter time in years: 5\n",
      "Simple interest for given conditions: 30000.0\n"
     ]
    }
   ],
   "source": [
    "#Program for simple interest\n",
    "p=float(input(\"Enter principal amount: \"))\n",
    "r=float(input(\"Enter rate percent: \"))\n",
    "t=float(input(\"Enter time in years: \"))\n",
    "si=(p*r*t)/100\n",
    "print(\"Simple interest for given conditions:\",si)"
   ]
  },
  {
   "cell_type": "code",
   "execution_count": 18,
   "id": "83cbd597",
   "metadata": {},
   "outputs": [
    {
     "name": "stdout",
     "output_type": "stream",
     "text": [
      "Enter principal amount: 50000\n",
      "Enter rate percent: 5\n",
      "Enter time in years: 5\n",
      "Compound interest for given conditions: 13814\n"
     ]
    }
   ],
   "source": [
    "#Program for compound interest\n",
    "p=float(input(\"Enter principal amount: \"))\n",
    "r=float(input(\"Enter rate percent: \"))\n",
    "t=float(input(\"Enter time in years: \"))\n",
    "a=p*(((1+(r/100))**t))\n",
    "ci=round(a-p)\n",
    "print(\"Compound interest for given conditions:\",ci)"
   ]
  },
  {
   "cell_type": "code",
   "execution_count": 2,
   "id": "6ecf54a3",
   "metadata": {},
   "outputs": [
    {
     "name": "stdout",
     "output_type": "stream",
     "text": [
      "Enter number: 153\n",
      "Armstrong number\n"
     ]
    }
   ],
   "source": [
    "#Program for armstrong number\n",
    "no=int(input(\"Enter number: \"))\n",
    "arm=0\n",
    "num=no\n",
    "while num!=0:\n",
    "    i=num%10\n",
    "    arm+=i**3\n",
    "    num=num//10\n",
    "if no==arm:\n",
    "    print(\"Armstrong number\")\n",
    "else:\n",
    "    print(\"Not Armstrong\")"
   ]
  },
  {
   "cell_type": "code",
   "execution_count": 6,
   "id": "c7ca338a",
   "metadata": {},
   "outputs": [
    {
     "name": "stdout",
     "output_type": "stream",
     "text": [
      "Enter radius of circle: 7\n",
      "Area of circle: 153.93804002589985\n"
     ]
    }
   ],
   "source": [
    "#Program to find area of circle\n",
    "import math\n",
    "r=float(input(\"Enter radius of circle: \"))\n",
    "p=math.pi\n",
    "area=p*(r**2)\n",
    "print(\"Area of circle:\",area)"
   ]
  },
  {
   "cell_type": "code",
   "execution_count": 36,
   "id": "05c7ec57",
   "metadata": {},
   "outputs": [
    {
     "name": "stdout",
     "output_type": "stream",
     "text": [
      "Enter starting number: 2\n",
      "Enter end number: 15\n",
      "2 3 5 7 11 13 "
     ]
    }
   ],
   "source": [
    "#Program to print prime numbers in an interval\n",
    "def isprime(x):\n",
    "    flag=0\n",
    "    if x==1 or x==2:\n",
    "        flag=1\n",
    "    else:\n",
    "        for i in range(2, x):\n",
    "            if x%i==0:\n",
    "                flag=0\n",
    "                break\n",
    "            else:\n",
    "                flag=1\n",
    "    return flag\n",
    "start=int(input(\"Enter starting number: \"))\n",
    "ending=int(input(\"Enter end number: \"))\n",
    "for i in range(start,ending+1):\n",
    "    if isprime(i)==1:\n",
    "        print(i,end=\" \")       "
   ]
  },
  {
   "cell_type": "code",
   "execution_count": 40,
   "id": "80c75152",
   "metadata": {},
   "outputs": [
    {
     "name": "stdout",
     "output_type": "stream",
     "text": [
      "Enter number:17\n",
      "Prime number\n"
     ]
    }
   ],
   "source": [
    "#Python program to check whether a number is Prime or not\n",
    "def isprime(x):\n",
    "    flag=0\n",
    "    if x==1 or x==2:\n",
    "        flag=1\n",
    "    else:\n",
    "        for i in range(2, x):\n",
    "            if x%i==0:\n",
    "                flag=0\n",
    "                break\n",
    "            else:\n",
    "                flag=1\n",
    "    return flag\n",
    "no=int(input(\"Enter number:\"))\n",
    "if isprime(no)==1:\n",
    "    print(\"Prime number\")\n",
    "else:\n",
    "    print(\"Composite number\")"
   ]
  },
  {
   "cell_type": "code",
   "execution_count": 43,
   "id": "34f24762",
   "metadata": {},
   "outputs": [
    {
     "name": "stdout",
     "output_type": "stream",
     "text": [
      "Enter limit:10\n",
      "Nth Fibonacci number: 34\n"
     ]
    }
   ],
   "source": [
    "#Python Program for n-th Fibonacci number\n",
    "n=int(input(\"Enter limit:\"))\n",
    "a=0\n",
    "b=1\n",
    "fib=0\n",
    "for i in range (3,n+1):\n",
    "    fib=a+b\n",
    "    a=b\n",
    "    b=fib\n",
    "print(\"Nth Fibonacci number:\",fib)"
   ]
  },
  {
   "cell_type": "code",
   "execution_count": null,
   "id": "51a4f98b",
   "metadata": {},
   "outputs": [],
   "source": []
  }
 ],
 "metadata": {
  "kernelspec": {
   "display_name": "Python 3 (ipykernel)",
   "language": "python",
   "name": "python3"
  },
  "language_info": {
   "codemirror_mode": {
    "name": "ipython",
    "version": 3
   },
   "file_extension": ".py",
   "mimetype": "text/x-python",
   "name": "python",
   "nbconvert_exporter": "python",
   "pygments_lexer": "ipython3",
   "version": "3.9.12"
  }
 },
 "nbformat": 4,
 "nbformat_minor": 5
}
