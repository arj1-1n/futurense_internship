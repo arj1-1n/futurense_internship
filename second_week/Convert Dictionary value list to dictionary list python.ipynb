{
 "cells": [
  {
   "cell_type": "code",
   "execution_count": 26,
   "id": "ceaedb03",
   "metadata": {},
   "outputs": [
    {
     "name": "stdout",
     "output_type": "stream",
     "text": [
      "[{'fname': 'Arjun'}, {'fname': 'Akshay'}, {'lname': 'Unnikrishnan'}, {'lname': 'Unnikrishnan'}, {'age': 18}, {'age': 14}]\n"
     ]
    }
   ],
   "source": [
    "#Convert Dictionary value list to dictionary list python\n",
    "dictlist={\"fname\":[\"Arjun\",\"Akshay\"],\"lname\":[\"Unnikrishnan\",\"Unnikrishnan\"],\"age\":[18,14]}\n",
    "keys=list(dictlist.keys())\n",
    "values=list(dictlist.values())\n",
    "ldict=[]\n",
    "for i in range (0,len(keys)):\n",
    "    for j in range (0,len(values[0])):\n",
    "        ldict.append({keys[i]:values[i][j]})\n",
    "print(ldict)"
   ]
  },
  {
   "cell_type": "code",
   "execution_count": null,
   "id": "8593857a",
   "metadata": {},
   "outputs": [],
   "source": []
  }
 ],
 "metadata": {
  "kernelspec": {
   "display_name": "Python 3 (ipykernel)",
   "language": "python",
   "name": "python3"
  },
  "language_info": {
   "codemirror_mode": {
    "name": "ipython",
    "version": 3
   },
   "file_extension": ".py",
   "mimetype": "text/x-python",
   "name": "python",
   "nbconvert_exporter": "python",
   "pygments_lexer": "ipython3",
   "version": "3.9.12"
  }
 },
 "nbformat": 4,
 "nbformat_minor": 5
}
