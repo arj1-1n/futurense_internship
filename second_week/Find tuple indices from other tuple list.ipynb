{
 "cells": [
  {
   "cell_type": "code",
   "execution_count": 12,
   "id": "24296f1b",
   "metadata": {},
   "outputs": [
    {
     "name": "stdout",
     "output_type": "stream",
     "text": [
      "(1, 2) is found in: 0  index of Tuple list 1\n",
      "(7, 10) is found in: 2  index of Tuple list 1\n"
     ]
    }
   ],
   "source": [
    "#Python Program to find tuple indices from other tuple list\n",
    "tl1=[(1,2),(3,1),(7,10),(9,4)]\n",
    "tl2=[(7,10),(2,3),(1,8),(1,2)]\n",
    "for a in tl1:\n",
    "    for b in tl2:\n",
    "        if a==b:\n",
    "            print(a,\"is found in:\",(tl1.index(a)),\" index of Tuple list 1\")"
   ]
  },
  {
   "cell_type": "code",
   "execution_count": null,
   "id": "25902f8d",
   "metadata": {},
   "outputs": [],
   "source": []
  }
 ],
 "metadata": {
  "kernelspec": {
   "display_name": "Python 3 (ipykernel)",
   "language": "python",
   "name": "python3"
  },
  "language_info": {
   "codemirror_mode": {
    "name": "ipython",
    "version": 3
   },
   "file_extension": ".py",
   "mimetype": "text/x-python",
   "name": "python",
   "nbconvert_exporter": "python",
   "pygments_lexer": "ipython3",
   "version": "3.9.12"
  }
 },
 "nbformat": 4,
 "nbformat_minor": 5
}
