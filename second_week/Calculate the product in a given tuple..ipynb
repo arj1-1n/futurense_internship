{
 "cells": [
  {
   "cell_type": "code",
   "execution_count": 14,
   "id": "4f275fce",
   "metadata": {},
   "outputs": [
    {
     "name": "stdout",
     "output_type": "stream",
     "text": [
      "Tuple: (-4, 2, 10, -5, -8, 3)\n",
      "Product of tuple: -9600\n"
     ]
    }
   ],
   "source": [
    "#Calculating product of all elements in tuple\n",
    "def prodtup(a):\n",
    "    prod=1\n",
    "    for i in a:\n",
    "        prod*=i\n",
    "    print(\"Tuple:\",a)\n",
    "    print(\"Product of tuple:\",prod)\n",
    "a=(-4,2,10,-5,-8,3)\n",
    "prodtup(a)"
   ]
  },
  {
   "cell_type": "code",
   "execution_count": 15,
   "id": "07db354c",
   "metadata": {},
   "outputs": [
    {
     "name": "stdout",
     "output_type": "stream",
     "text": [
      "Tuple: (4, 3, 2, 2, -1, 18)\n",
      "Product of tuple: -864\n"
     ]
    }
   ],
   "source": [
    "#Test Case 1\n",
    "tup2=(4, 3, 2, 2, -1, 18)\n",
    "prodtup(tup2)"
   ]
  },
  {
   "cell_type": "code",
   "execution_count": 16,
   "id": "1264fd84",
   "metadata": {},
   "outputs": [
    {
     "name": "stdout",
     "output_type": "stream",
     "text": [
      "Tuple: (2, 4, 8, 8, 3, 2, 9)\n",
      "Product of tuple: 27648\n"
     ]
    }
   ],
   "source": [
    "#Test Case 2\n",
    "tup3=(2, 4, 8, 8, 3, 2, 9)\n",
    "prodtup(tup3)"
   ]
  },
  {
   "cell_type": "code",
   "execution_count": null,
   "id": "5e45e285",
   "metadata": {},
   "outputs": [],
   "source": []
  }
 ],
 "metadata": {
  "kernelspec": {
   "display_name": "Python 3 (ipykernel)",
   "language": "python",
   "name": "python3"
  },
  "language_info": {
   "codemirror_mode": {
    "name": "ipython",
    "version": 3
   },
   "file_extension": ".py",
   "mimetype": "text/x-python",
   "name": "python",
   "nbconvert_exporter": "python",
   "pygments_lexer": "ipython3",
   "version": "3.9.12"
  }
 },
 "nbformat": 4,
 "nbformat_minor": 5
}
