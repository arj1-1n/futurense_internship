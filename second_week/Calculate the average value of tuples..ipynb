{
 "cells": [
  {
   "cell_type": "code",
   "execution_count": 49,
   "id": "46f4c5c5",
   "metadata": {},
   "outputs": [],
   "source": [
    "#Calculate the average value of the numbers in a given tuple \n",
    "import numpy as np\n",
    "def avgtup(a):\n",
    "    avgl=[]\n",
    "    m=len(a)\n",
    "    n=len(a[0])\n",
    "    arr=np.array(a)\n",
    "    avg=np.mean(arr,axis=0)\n",
    "    avgl.append(avg)\n",
    "    print(\"Average of each column:\")\n",
    "    print(avgl)"
   ]
  },
  {
   "cell_type": "code",
   "execution_count": 50,
   "id": "71d24fb5",
   "metadata": {},
   "outputs": [
    {
     "name": "stdout",
     "output_type": "stream",
     "text": [
      "Average of each column:\n",
      "[array([30.5 , 34.25, 27.  , 23.25])]\n"
     ]
    }
   ],
   "source": [
    "#Test Case 1\n",
    "tup1=((10, 10, 10, 12), (30, 45, 56,45), (81, 80, 39, 32), (1, 2, 3, 4))\n",
    "avgtup(tup1)"
   ]
  },
  {
   "cell_type": "code",
   "execution_count": 52,
   "id": "8c6b9f03",
   "metadata": {},
   "outputs": [
    {
     "name": "stdout",
     "output_type": "stream",
     "text": [
      "Average of each column:\n",
      "[array([ 25.5 , -18.  ,   3.75])]\n"
     ]
    }
   ],
   "source": [
    "#Test Case 2\n",
    "tup2=((1, 1, -5), (30, -15, 56), (81,-60, -39), (-10, 2, 3))\n",
    "avgtup(tup2)"
   ]
  },
  {
   "cell_type": "code",
   "execution_count": null,
   "id": "3a370e28",
   "metadata": {},
   "outputs": [],
   "source": []
  }
 ],
 "metadata": {
  "kernelspec": {
   "display_name": "Python 3 (ipykernel)",
   "language": "python",
   "name": "python3"
  },
  "language_info": {
   "codemirror_mode": {
    "name": "ipython",
    "version": 3
   },
   "file_extension": ".py",
   "mimetype": "text/x-python",
   "name": "python",
   "nbconvert_exporter": "python",
   "pygments_lexer": "ipython3",
   "version": "3.9.12"
  }
 },
 "nbformat": 4,
 "nbformat_minor": 5
}
